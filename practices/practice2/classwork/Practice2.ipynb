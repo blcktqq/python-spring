{
  "nbformat": 4,
  "nbformat_minor": 0,
  "metadata": {
    "colab": {
      "provenance": [],
      "authorship_tag": "ABX9TyOxrj4hprApmiMgYmCfDnpP",
      "include_colab_link": true
    },
    "kernelspec": {
      "name": "python3",
      "display_name": "Python 3"
    },
    "language_info": {
      "name": "python"
    }
  },
  "cells": [
    {
      "cell_type": "markdown",
      "metadata": {
        "id": "view-in-github",
        "colab_type": "text"
      },
      "source": [
        "<a href=\"https://colab.research.google.com/github/blcktqq/python-spring/blob/main/practices/practice2/classwork/Practice2.ipynb\" target=\"_parent\"><img src=\"https://colab.research.google.com/assets/colab-badge.svg\" alt=\"Open In Colab\"/></a>"
      ]
    },
    {
      "cell_type": "code",
      "execution_count": 2,
      "metadata": {
        "id": "dcs_7Q3ApBDf",
        "outputId": "c3f355fc-38e3-43a7-e12a-d9ed87b4a0c8",
        "colab": {
          "base_uri": "https://localhost:8080/"
        }
      },
      "outputs": [
        {
          "output_type": "stream",
          "name": "stdout",
          "text": [
            "Requirement already satisfied: numpy in /usr/local/lib/python3.11/dist-packages (1.26.4)\n"
          ]
        }
      ],
      "source": [
        "!pip install numpy"
      ]
    },
    {
      "cell_type": "code",
      "source": [
        "import numpy as np"
      ],
      "metadata": {
        "id": "8WrnbLP1pgjX"
      },
      "execution_count": 3,
      "outputs": []
    },
    {
      "cell_type": "markdown",
      "source": [
        "# Створення пустих масивів NumPy з використанням функції empty()"
      ],
      "metadata": {
        "id": "gmyQQ-LNpYPK"
      }
    },
    {
      "cell_type": "code",
      "source": [
        "np.empty(5)"
      ],
      "metadata": {
        "id": "IN5WGAxYpasI"
      },
      "execution_count": null,
      "outputs": []
    },
    {
      "cell_type": "code",
      "source": [
        "## Створення матриці 3х4\n",
        "np.empty((3,4))"
      ],
      "metadata": {
        "id": "c7_wMgSSqWit"
      },
      "execution_count": null,
      "outputs": []
    },
    {
      "cell_type": "markdown",
      "source": [
        "# Створення непустих масивів NumPy"
      ],
      "metadata": {
        "id": "pD6U4oyLqfpD"
      }
    },
    {
      "cell_type": "code",
      "source": [
        "np.array([1,2,3])"
      ],
      "metadata": {
        "id": "WhTEFlEeqiwq"
      },
      "execution_count": null,
      "outputs": []
    },
    {
      "cell_type": "code",
      "source": [
        "# Заповненя нулями\n",
        "a = np.zeros(5, dtype = int)\n",
        "print(a)\n",
        "print(a.dtype)"
      ],
      "metadata": {
        "id": "_HVzA5XAq7YU"
      },
      "execution_count": null,
      "outputs": []
    },
    {
      "cell_type": "code",
      "source": [
        "a = np.zeros(5);\n",
        "print(a)\n",
        "print(a.dtype)"
      ],
      "metadata": {
        "id": "qwYNqJh1rEAw"
      },
      "execution_count": null,
      "outputs": []
    },
    {
      "cell_type": "markdown",
      "source": [
        "Генерація послідовностей"
      ],
      "metadata": {
        "id": "IADWkFEPrDRv"
      }
    },
    {
      "cell_type": "code",
      "source": [
        "np.arange(8)"
      ],
      "metadata": {
        "id": "s8YzCZpLrjAC"
      },
      "execution_count": null,
      "outputs": []
    },
    {
      "cell_type": "code",
      "source": [
        "#Від 2 до 8 з кроком 3\n",
        "np.arange(2,8,3)"
      ],
      "metadata": {
        "id": "gcoGzQkorp44"
      },
      "execution_count": null,
      "outputs": []
    },
    {
      "cell_type": "markdown",
      "source": [
        "Для послідовностей з плаваючою точкою:"
      ],
      "metadata": {
        "id": "uEmkg1oMr5fn"
      }
    },
    {
      "cell_type": "code",
      "source": [
        "np.linspace(0, 2, 5)"
      ],
      "metadata": {
        "id": "rl8l037NsHuw"
      },
      "execution_count": null,
      "outputs": []
    },
    {
      "cell_type": "markdown",
      "source": [
        "# Заповнення масивів NumPy випадковими числами"
      ],
      "metadata": {
        "id": "XUSQgQObsk4U"
      }
    },
    {
      "cell_type": "code",
      "source": [
        "np.random.sample()"
      ],
      "metadata": {
        "id": "N9bgFIl1smN0"
      },
      "execution_count": null,
      "outputs": []
    },
    {
      "cell_type": "code",
      "source": [
        "np.random.randint(0,5)"
      ],
      "metadata": {
        "id": "uK3sEsy2stEC"
      },
      "execution_count": null,
      "outputs": []
    },
    {
      "cell_type": "markdown",
      "source": [
        "# Звернення до елементів масивів"
      ],
      "metadata": {
        "id": "brpdBfxBuG5K"
      }
    },
    {
      "cell_type": "code",
      "source": [
        "a = np.array([1, 4, 5, 8])\n",
        "a[2]"
      ],
      "metadata": {
        "id": "egQ45WeTuI9I"
      },
      "execution_count": null,
      "outputs": []
    },
    {
      "cell_type": "code",
      "source": [
        "a = np.array([1, 2, 3, 4, 5, 6, 7, 8, 9, 0])\n",
        "a[0:9:2]"
      ],
      "metadata": {
        "id": "BLvXG3bgurj5"
      },
      "execution_count": null,
      "outputs": []
    },
    {
      "cell_type": "markdown",
      "source": [
        "Виборки"
      ],
      "metadata": {
        "id": "VADISbnru4l2"
      }
    },
    {
      "cell_type": "code",
      "source": [
        "# Всі елементи з `a` які менше 5\n",
        "b = a[a<5]\n",
        "print(b)"
      ],
      "metadata": {
        "id": "IGJeFRU8u6gD"
      },
      "execution_count": null,
      "outputs": []
    },
    {
      "cell_type": "code",
      "source": [
        "# всі елементи масива a, що діляться націло на 2\n",
        "b = a[a % 2 == 0]\n",
        "print(b)"
      ],
      "metadata": {
        "id": "-8JkqwtwvFF5"
      },
      "execution_count": null,
      "outputs": []
    },
    {
      "cell_type": "code",
      "source": [
        "# всі елементи масива a, які відповідають двум умовам одночасно (логічний вираз)\n",
        "b = a[(a >2) & (a <= 8)]\n",
        "print(b)"
      ],
      "metadata": {
        "id": "T5GSus4svOGM"
      },
      "execution_count": null,
      "outputs": []
    },
    {
      "cell_type": "markdown",
      "source": [
        "# Методи обробки одновимірних масивів Numpy"
      ],
      "metadata": {
        "id": "sUZJ7WxtvfJ8"
      }
    },
    {
      "cell_type": "code",
      "source": [
        "def describe(a):\n",
        "  print(a)\n",
        "  print(f\"Форма  (shape) :{a.shape}\")\n",
        "  print(f\"Кількість вимірів  (dimensions) :{a.ndim}\")\n",
        "  print(f\"Розмір масиву: {a.size}\")"
      ],
      "metadata": {
        "id": "DpvpWzscxVnC"
      },
      "execution_count": 33,
      "outputs": []
    },
    {
      "cell_type": "code",
      "source": [
        "arr = np.full(shape = 4, fill_value=5)\n",
        "describe(arr)"
      ],
      "metadata": {
        "id": "xGNM6gk_vgJB"
      },
      "execution_count": null,
      "outputs": []
    },
    {
      "cell_type": "code",
      "source": [
        "arr = np.full(shape = (3,4), fill_value=5)\n",
        "describe(arr)"
      ],
      "metadata": {
        "id": "JPNS-KtRxBVR"
      },
      "execution_count": null,
      "outputs": []
    },
    {
      "cell_type": "code",
      "source": [
        "arr = np.full(shape = (2,3,4), fill_value=5)\n",
        "describe(arr)"
      ],
      "metadata": {
        "id": "EknGMxSZxBu7"
      },
      "execution_count": null,
      "outputs": []
    },
    {
      "cell_type": "markdown",
      "source": [
        "# Операції над масивами Numpy"
      ],
      "metadata": {
        "id": "hUHgBkbmxkXw"
      }
    },
    {
      "cell_type": "code",
      "source": [
        "a = np.random.randint(0,25,6)\n",
        "print(a)\n",
        "b = np.random.randint(0,5,6)\n",
        "print(b)\n",
        "c = a + b\n",
        "print(c)"
      ],
      "metadata": {
        "id": "r-TKY4QDxrWS",
        "outputId": "cde05124-8c07-4667-dfc8-c310cf7fd4b4",
        "colab": {
          "base_uri": "https://localhost:8080/"
        }
      },
      "execution_count": 42,
      "outputs": [
        {
          "output_type": "stream",
          "name": "stdout",
          "text": [
            "[ 9 13 22 22 22  1]\n",
            "[1 0 3 0 0 1]\n",
            "[10 13 25 22 22  2]\n"
          ]
        }
      ]
    },
    {
      "cell_type": "code",
      "source": [
        "\n",
        "print(a)\n",
        "#статистичні обчислення:\n",
        "print(f\"відхилення {np.std(a)}\")\n",
        "print(f\"дисперсія {np.var(a)}\")\n",
        "print(f\"середньоарифметичне {np.mean(a)}\")\n",
        "\n",
        "#визначення екстремальних значень масиву\n",
        "print(f\"Відхилення {np.std(a)}\")"
      ],
      "metadata": {
        "id": "LwZ64x0wyThX",
        "outputId": "95fde795-d796-4f0e-d57d-97196da227a4",
        "colab": {
          "base_uri": "https://localhost:8080/"
        }
      },
      "execution_count": 44,
      "outputs": [
        {
          "output_type": "stream",
          "name": "stdout",
          "text": [
            "[ 9 13 22 22 22  1]\n",
            "відхилення 7.987837977547838\n",
            "дисперсія 63.80555555555554\n",
            "середньоарифметичне 14.833333333333334\n",
            "Відхилення 7.987837977547838\n"
          ]
        }
      ]
    }
  ]
}