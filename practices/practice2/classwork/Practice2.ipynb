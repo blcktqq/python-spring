{
  "nbformat": 4,
  "nbformat_minor": 0,
  "metadata": {
    "colab": {
      "provenance": [],
      "authorship_tag": "ABX9TyO+EhbZKVwPXFuQr93p1zzy",
      "include_colab_link": true
    },
    "kernelspec": {
      "name": "python3",
      "display_name": "Python 3"
    },
    "language_info": {
      "name": "python"
    }
  },
  "cells": [
    {
      "cell_type": "markdown",
      "metadata": {
        "id": "view-in-github",
        "colab_type": "text"
      },
      "source": [
        "<a href=\"https://colab.research.google.com/github/blcktqq/python-spring/blob/main/practices/practice2/classwork/Practice2.ipynb\" target=\"_parent\"><img src=\"https://colab.research.google.com/assets/colab-badge.svg\" alt=\"Open In Colab\"/></a>"
      ]
    },
    {
      "cell_type": "code",
      "execution_count": null,
      "metadata": {
        "id": "dcs_7Q3ApBDf"
      },
      "outputs": [],
      "source": [
        "!pip install numpy"
      ]
    },
    {
      "cell_type": "code",
      "source": [
        "import numpy as np"
      ],
      "metadata": {
        "id": "8WrnbLP1pgjX"
      },
      "execution_count": 28,
      "outputs": []
    },
    {
      "cell_type": "markdown",
      "source": [
        "# Створення пустих масивів NumPy з використанням функції empty()"
      ],
      "metadata": {
        "id": "gmyQQ-LNpYPK"
      }
    },
    {
      "cell_type": "code",
      "source": [
        "np.empty(5)"
      ],
      "metadata": {
        "id": "IN5WGAxYpasI"
      },
      "execution_count": null,
      "outputs": []
    },
    {
      "cell_type": "code",
      "source": [
        "## Створення матриці 3х4\n",
        "np.empty((3,4))"
      ],
      "metadata": {
        "id": "c7_wMgSSqWit"
      },
      "execution_count": null,
      "outputs": []
    },
    {
      "cell_type": "markdown",
      "source": [
        "# Створення непустих масивів NumPy"
      ],
      "metadata": {
        "id": "pD6U4oyLqfpD"
      }
    },
    {
      "cell_type": "code",
      "source": [
        "np.array([1,2,3])"
      ],
      "metadata": {
        "id": "WhTEFlEeqiwq"
      },
      "execution_count": null,
      "outputs": []
    },
    {
      "cell_type": "code",
      "source": [
        "# Заповненя нулями\n",
        "a = np.zeros(5, dtype = int)\n",
        "print(a)\n",
        "print(a.dtype)"
      ],
      "metadata": {
        "id": "_HVzA5XAq7YU"
      },
      "execution_count": null,
      "outputs": []
    },
    {
      "cell_type": "code",
      "source": [
        "a = np.zeros(5);\n",
        "print(a)\n",
        "print(a.dtype)"
      ],
      "metadata": {
        "id": "qwYNqJh1rEAw"
      },
      "execution_count": null,
      "outputs": []
    },
    {
      "cell_type": "markdown",
      "source": [
        "Генерація послідовностей"
      ],
      "metadata": {
        "id": "IADWkFEPrDRv"
      }
    },
    {
      "cell_type": "code",
      "source": [
        "np.arange(8)"
      ],
      "metadata": {
        "id": "s8YzCZpLrjAC"
      },
      "execution_count": null,
      "outputs": []
    },
    {
      "cell_type": "code",
      "source": [
        "#Від 2 до 8 з кроком 3\n",
        "np.arange(2,8,3)"
      ],
      "metadata": {
        "id": "gcoGzQkorp44"
      },
      "execution_count": null,
      "outputs": []
    },
    {
      "cell_type": "markdown",
      "source": [
        "Для послідовностей з плаваючою точкою:"
      ],
      "metadata": {
        "id": "uEmkg1oMr5fn"
      }
    },
    {
      "cell_type": "code",
      "source": [
        "np.linspace(0, 2, 5)"
      ],
      "metadata": {
        "id": "rl8l037NsHuw"
      },
      "execution_count": null,
      "outputs": []
    },
    {
      "cell_type": "markdown",
      "source": [
        "# Заповнення масивів NumPy випадковими числами"
      ],
      "metadata": {
        "id": "XUSQgQObsk4U"
      }
    },
    {
      "cell_type": "code",
      "source": [
        "np.random.sample()"
      ],
      "metadata": {
        "id": "N9bgFIl1smN0"
      },
      "execution_count": null,
      "outputs": []
    },
    {
      "cell_type": "code",
      "source": [
        "np.random.randint(0,5)"
      ],
      "metadata": {
        "id": "uK3sEsy2stEC"
      },
      "execution_count": null,
      "outputs": []
    }
  ]
}